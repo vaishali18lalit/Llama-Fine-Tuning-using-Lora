{
 "cells": [
  {
   "cell_type": "code",
   "execution_count": 2,
   "id": "5a5816da",
   "metadata": {},
   "outputs": [],
   "source": [
    "import pandas as pd\n",
    "import json\n",
    "import numpy as np\n",
    "from collections import defaultdict"
   ]
  },
  {
   "cell_type": "code",
   "execution_count": 3,
   "id": "29692966",
   "metadata": {},
   "outputs": [],
   "source": [
    "#Read .csv dataset file\n",
    "df_data = pd.read_csv('hospital-inpatient-discharges-pneumonia.csv', low_memory=False)"
   ]
  },
  {
   "cell_type": "code",
   "execution_count": 4,
   "id": "675e26f1",
   "metadata": {},
   "outputs": [],
   "source": [
    "#columns_to_drop = [\"Facility Name\",\"Ethnicity\",\"Health Service Area\",\"Operating Certificate Number\",\"Facility ID\",\"Zip Code - 3 digits\",\n",
    "#                 \"CCS Diagnosis Code\",\"CCS Procedure Code\",\"APR DRG Code\",\"APR MDC Code\",\"APR Severity of Illness Code\",\n",
    "#                 \"Source of Payment 1\",\"Source of Payment 2\",\"Source of Payment 3\",\"Attending Provider License Number\",\n",
    "#                 \"Operating Provider License Number\",\"Other Provider License Number\",\"Payment Typology 1\",\n",
    "#                 \"Payment Topology 2\",\"Payment Typology 2\",\"Payment Typology 3\",\"Facility Id\",\"Ratio of Total Costs to Total Charges\",\n",
    "#                  \"Discharge Year\",\"Total Charges\",\"Total Costs\",\"Abortion Edit Indicator\",\"Birth Weight\"]\n",
    "columns_to_drop = [\"Facility Name\",\"Ethnicity\",\"Health Service Area\",\"Operating Certificate Number\",\"Facility ID\",\"Zip Code - 3 digits\",\n",
    "                 \"CCS Diagnosis Code\",\"CCS Procedure Code\",\"APR DRG Code\",\"APR MDC Code\",\"APR Severity of Illness Code\",\n",
    "                 \"Source of Payment 1\",\"Source of Payment 2\",\"Source of Payment 3\",\"Attending Provider License Number\",\n",
    "                 \"Operating Provider License Number\",\"Other Provider License Number\",\"Payment Typology 1\",\n",
    "                 \"Payment Topology 2\",\"Payment Typology 2\",\"Payment Typology 3\",\"Facility Id\",\"Ratio of Total Costs to Total Charges\",\n",
    "                  \"Discharge Year\",\"Total Charges\",\"Total Costs\",\"Abortion Edit Indicator\",\"Birth Weight\"]\n",
    "df_data.drop(columns=columns_to_drop, inplace=True)"
   ]
  },
  {
   "cell_type": "code",
   "execution_count": 18,
   "id": "c25a375e",
   "metadata": {},
   "outputs": [],
   "source": [
    "#df_data.loc[df_data[\"APR Severity of Illness Description\"].isnull() & (df_data[\"APR Severity of Illness Code\"] == 1), \"APR Severity of Illness Description\"] = \"Minor\"\n",
    "#df_data.loc[df_data[\"APR Severity of Illness Description\"].isnull() & (df_data[\"APR Severity of Illness Code\"] == 2), \"APR Severity of Illness Description\"] = \"Moderate\"\n",
    "#df_data.loc[df_data[\"APR Severity of Illness Description\"].isnull() & (df_data[\"APR Severity of Illness Code\"] == 3), \"APR Severity of Illness Description\"] = \"Major\"\n",
    "#df_data.loc[df_data[\"APR Severity of Illness Description\"].isnull() & (df_data[\"APR Severity of Illness Code\"] == 4), \"APR Severity of Illness Description\"] = \"Extreme\""
   ]
  },
  {
   "cell_type": "code",
   "execution_count": 5,
   "id": "47441b65",
   "metadata": {
    "scrolled": true
   },
   "outputs": [
    {
     "name": "stdout",
     "output_type": "stream",
     "text": [
      "Number of NaN values in each column:\n",
      "Hospital County                        9\n",
      "Age Group                              0\n",
      "Gender                                 0\n",
      "Race                                   0\n",
      "Length of Stay                         0\n",
      "Type of Admission                      0\n",
      "Patient Disposition                    6\n",
      "CCS Diagnosis Description              0\n",
      "CCS Procedure Description              0\n",
      "APR DRG Description                    0\n",
      "APR MDC Description                    0\n",
      "APR Severity of Illness Description    2\n",
      "APR Risk of Mortality                  2\n",
      "APR Medical Surgical Description       0\n",
      "Emergency Department Indicator         0\n",
      "dtype: int64\n"
     ]
    }
   ],
   "source": [
    "nan_counts = df_data.isnull().sum()\n",
    "\n",
    "# Total number of NaN values in the entire DataFrame\n",
    "\n",
    "print(\"Number of NaN values in each column:\")\n",
    "print(nan_counts)"
   ]
  },
  {
   "cell_type": "code",
   "execution_count": 6,
   "id": "384da2f6",
   "metadata": {},
   "outputs": [],
   "source": [
    "df_data.dropna(inplace=True)"
   ]
  },
  {
   "cell_type": "code",
   "execution_count": 26,
   "id": "dca9f4ab",
   "metadata": {},
   "outputs": [],
   "source": [
    "# Function to build the file in correct JSONL format\n",
    "def create_message(row):\n",
    "    message_system = {\n",
    "        \"role\": \"system\",\n",
    "        \"content\": '\"Given characteristics about a patient, where applicable, provide the APR Severity of Illness Description: \"'\n",
    "                   '\"Hospital County\", \"Age Group\", \"Gender\", \"Race\", \"Length of Stay\", \"Type of Admission\", \"Patient Disposition\", '\n",
    "                   '\"CCS Diagnosis Description\", \"CCS Procedure Description\", \"APR DRG Description\", \"APR MDC Description\",'\n",
    "                   '\"APR Severity of Illness Code\", \"APR Risk of Mortality\", \"APR Medical Surgical Description\",'\n",
    "                    '\"Emergency Department Indicator\".'\n",
    "    }\n",
    "    \n",
    "    message_user = {\n",
    "        \"role\": \"user\",\n",
    "        \"content\": f\"Sources: {row['Hospital County']}, {row['Age Group']}, {row['Gender']}, {row['Race']}, {row['Length of Stay']},\"\n",
    "                   f\" {row['Type of Admission']},{row['Patient Disposition']}, {row['CCS Diagnosis Description']},\"\n",
    "                   f\"{row['CCS Procedure Description']},{row['APR DRG Description']}, {row['APR MDC Description']},\"\n",
    "                   f\"{row['APR Risk of Mortality']}, {row['APR Medical Surgical Description']},\"\n",
    "                   f\"{row['Emergency Department Indicator']}\"\n",
    "    }\n",
    "    \n",
    "    message_assistant = {\n",
    "        \"role\": \"assistant\",\n",
    "        \"content\": f\"{output_column}: {row[output_column]}\"\n",
    "    }\n",
    "    \n",
    "    return {\"messages\": [message_system, message_user, message_assistant]}\n",
    "\n",
    "# List to store all messages\n",
    "messages = []\n",
    "\n",
    "# Iterate over the rows of the DataFrame, starting from the second row (index 1) and limiting to the 101st row (index 100)\n",
    "for index, row in df_data.iloc[1:101].iterrows():\n",
    "    \n",
    "    # Create a message for each row\n",
    "    message = create_message(row)\n",
    "    # Add the messages to the list\n",
    "    messages.append(message)\n",
    "\n",
    "# Save the messages in a JSONL file\n",
    "with open('output.jsonl', 'w') as f:\n",
    "    for msg in messages:\n",
    "        f.write(json.dumps(msg) + '\\n') \n"
   ]
  },
  {
   "cell_type": "code",
   "execution_count": 17,
   "id": "169952b2",
   "metadata": {},
   "outputs": [],
   "source": [
    "def create_message(context_phrase, row, df_columns, output_column):\n",
    "    # Initialize an empty dictionary to store the message\n",
    "    message = {\"messages\": []}\n",
    "    \n",
    "    # Create the system message\n",
    "    system_message_content = {\n",
    "        \"role\": \"system\",\n",
    "        \"content\": f\"{context_phrase}\" + ', '.join(df_columns)\n",
    "    }\n",
    "    # Add the system message to the list of messages in the dictionary\n",
    "    message[\"messages\"].append(system_message_content)\n",
    "    \n",
    "    user_message = {\"role\": \"user\", \"content\": \"\"}\n",
    "\n",
    "    # Iterate over each column and value of the Dataframe line\n",
    "    for column, value in row.items():\n",
    "        # Adiciona o nome da coluna e o valor correspondente à mensagem\n",
    "        user_message[\"content\"] += f\"{column}: {value} , \"\n",
    "\n",
    "    # Remove the last character \",\" of the message\n",
    "    user_message[\"content\"] = user_message[\"content\"][:-2]\n",
    "    \n",
    "    message[\"messages\"].append(user_message)\n",
    "\n",
    "    message_assistant = {\n",
    "        \"role\": \"assistant\",\n",
    "        \"content\": f\"{output_column}: {row[output_column]}\"\n",
    "    }\n",
    "    message[\"messages\"].append(message_assistant)\n",
    "    \n",
    "    return message\n",
    "\n",
    "# List to store all messages\n",
    "messages = []\n",
    "\n",
    "phrase_context = \"Given characteristics about a patient, where applicable, provide the APR Severity of Illness Description: \"\n",
    "# Columns for the system message\n",
    "system_message_columns = df_data.columns.tolist()\n",
    "output_column = \"APR Severity of Illness Description\"\n",
    "\n",
    "# Iterate over the rows of the DataFrame\n",
    "for index, row in df_data.iloc[1:101].iterrows():\n",
    "    # Create a message for each row\n",
    "    message = create_message(phrase_context, row, system_message_columns, output_column)\n",
    "    # Add the message to the list\n",
    "    messages.append(message)\n",
    "\n",
    "# Save the messages in a JSONL file\n",
    "with open('output.jsonl', 'w') as f:\n",
    "    for msg in messages:\n",
    "        f.write(json.dumps(msg) + '\\n')"
   ]
  },
  {
   "cell_type": "code",
   "execution_count": 18,
   "id": "61de8296",
   "metadata": {},
   "outputs": [
    {
     "name": "stdout",
     "output_type": "stream",
     "text": [
      "Num examples: 100\n",
      "First example:\n",
      "{'role': 'system', 'content': 'Given characteristics about a patient, where applicable, provide the APR Severity of Illness Description: Hospital County, Age Group, Gender, Race, Length of Stay, Type of Admission, Patient Disposition, CCS Diagnosis Description, CCS Procedure Description, APR DRG Description, APR MDC Description, APR Severity of Illness Description, APR Risk of Mortality, APR Medical Surgical Description, Emergency Department Indicator'}\n",
      "{'role': 'user', 'content': 'Hospital County: Albany , Age Group: 70 or Older , Gender: F , Race: White , Length of Stay: 3 , Type of Admission: Emergency , Patient Disposition: Inpatient Rehabilitation Facility , CCS Diagnosis Description: PNEUMONIA , CCS Procedure Description: NO PROC , APR DRG Description: OTHER PNEUMONIA , APR MDC Description: Diseases and Disorders of the Respiratory System , APR Severity of Illness Description: Major , APR Risk of Mortality: Moderate , APR Medical Surgical Description: Medical , Emergency Department Indicator: Y '}\n",
      "{'role': 'assistant', 'content': 'APR Severity of Illness Description: Major'}\n"
     ]
    }
   ],
   "source": [
    "data_path = \"output.jsonl\"\n",
    "\n",
    "# Load the dataset\n",
    "with open(data_path, 'r', encoding='utf-8') as f:\n",
    "    dataset = [json.loads(line) for line in f]\n",
    "\n",
    "# Initial dataset stats\n",
    "print(\"Num examples:\", len(dataset))\n",
    "print(\"First example:\")\n",
    "for message in dataset[0][\"messages\"]:\n",
    "    print(message)"
   ]
  },
  {
   "cell_type": "code",
   "execution_count": 19,
   "id": "a1ff2a67",
   "metadata": {},
   "outputs": [
    {
     "name": "stdout",
     "output_type": "stream",
     "text": [
      "No errors found\n"
     ]
    }
   ],
   "source": [
    "# Format error checks\n",
    "format_errors = defaultdict(int)\n",
    "\n",
    "for ex in dataset:\n",
    "    if not isinstance(ex, dict):\n",
    "        format_errors[\"data_type\"] += 1\n",
    "        continue\n",
    "        \n",
    "    messages = ex.get(\"messages\", None)\n",
    "    if not messages:\n",
    "        format_errors[\"missing_messages_list\"] += 1\n",
    "        continue\n",
    "        \n",
    "    for message in messages:\n",
    "        if \"role\" not in message or \"content\" not in message:\n",
    "            format_errors[\"message_missing_key\"] += 1\n",
    "        \n",
    "        if any(k not in (\"role\", \"content\", \"name\", \"function_call\") for k in message):\n",
    "            format_errors[\"message_unrecognized_key\"] += 1\n",
    "        \n",
    "        if message.get(\"role\", None) not in (\"system\", \"user\", \"assistant\", \"function\"):\n",
    "            format_errors[\"unrecognized_role\"] += 1\n",
    "            \n",
    "        content = message.get(\"content\", None)\n",
    "        function_call = message.get(\"function_call\", None)\n",
    "        \n",
    "        if (not content and not function_call) or not isinstance(content, str):\n",
    "            format_errors[\"missing_content\"] += 1\n",
    "    \n",
    "    if not any(message.get(\"role\", None) == \"assistant\" for message in messages):\n",
    "        format_errors[\"example_missing_assistant_message\"] += 1\n",
    "\n",
    "if format_errors:\n",
    "    print(\"Found errors:\")\n",
    "    for k, v in format_errors.items():\n",
    "        print(f\"{k}: {v}\")\n",
    "else:\n",
    "    print(\"No errors found\")"
   ]
  }
 ],
 "metadata": {
  "kernelspec": {
   "display_name": "Python 3 (ipykernel)",
   "language": "python",
   "name": "python3"
  },
  "language_info": {
   "codemirror_mode": {
    "name": "ipython",
    "version": 3
   },
   "file_extension": ".py",
   "mimetype": "text/x-python",
   "name": "python",
   "nbconvert_exporter": "python",
   "pygments_lexer": "ipython3",
   "version": "3.11.4"
  }
 },
 "nbformat": 4,
 "nbformat_minor": 5
}
